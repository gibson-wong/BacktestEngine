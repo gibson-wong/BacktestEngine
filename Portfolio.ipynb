{
 "cells": [
  {
   "cell_type": "code",
   "execution_count": 9,
   "metadata": {
    "collapsed": true
   },
   "outputs": [],
   "source": [
    "import pandas"
   ]
  },
  {
   "cell_type": "code",
   "execution_count": 87,
   "metadata": {
    "collapsed": false
   },
   "outputs": [],
   "source": [
    "class Portfolio:\n",
    "    Total_Assets = None\n",
    "    Cash = None\n",
    "    Asset_List = None\n",
    "    __columns = [\"Asset\"] + [\"Weight\"]\n",
    "    \n",
    "    def __init__(self, cash):\n",
    "       \n",
    "        self.Asset_List = pandas.DataFrame(columns = self.__columns)\n",
    "        self.Cash = cash\n",
    "        self.Total_Assets = cash\n",
    "    \n",
    "    def AddAssets(self, assets):\n",
    "        for asset in assets:\n",
    "            series = pandas.Series([asset] + [0], index = self.__columns)\n",
    "            self.Asset_List =  self.Asset_List.append(series, ignore_index=True)\n",
    "    "
   ]
  },
  {
   "cell_type": "code",
   "execution_count": 90,
   "metadata": {
    "collapsed": false
   },
   "outputs": [
    {
     "data": {
      "text/plain": [
       "'AAPL'"
      ]
     },
     "execution_count": 90,
     "metadata": {},
     "output_type": "execute_result"
    }
   ],
   "source": [
    "portfolio = Portfolio(500)\n",
    "portfolio.AddAssets([\"AAPL\", \"GOOGL\"])\n",
    "portfolio.Asset_List[\"Asset\"][0]"
   ]
  },
  {
   "cell_type": "code",
   "execution_count": 86,
   "metadata": {
    "collapsed": false
   },
   "outputs": [
    {
     "name": "stdout",
     "output_type": "stream",
     "text": [
      "['a', 0]\n",
      "['b', 0]\n"
     ]
    }
   ],
   "source": [
    "__columns = [\"Asset\"] + [\"Weight\"]\n",
    "Asset_List = pandas.DataFrame(columns = __columns)\n",
    "Asset_List\n",
    "\n",
    "assets = [\"a\" , \"b\"]\n",
    "for asset in assets:    \n",
    "    a = pandas.Series([asset] + [0], index = __columns)\n",
    "    Asset_List.append(a, ignore_index=True)\n",
    "    print([asset] + [0])"
   ]
  },
  {
   "cell_type": "code",
   "execution_count": null,
   "metadata": {
    "collapsed": true
   },
   "outputs": [],
   "source": []
  },
  {
   "cell_type": "code",
   "execution_count": null,
   "metadata": {
    "collapsed": true
   },
   "outputs": [],
   "source": []
  }
 ],
 "metadata": {
  "kernelspec": {
   "display_name": "Python 3",
   "language": "python",
   "name": "python3"
  },
  "language_info": {
   "codemirror_mode": {
    "name": "ipython",
    "version": 3
   },
   "file_extension": ".py",
   "mimetype": "text/x-python",
   "name": "python",
   "nbconvert_exporter": "python",
   "pygments_lexer": "ipython3",
   "version": "3.4.3"
  }
 },
 "nbformat": 4,
 "nbformat_minor": 0
}
